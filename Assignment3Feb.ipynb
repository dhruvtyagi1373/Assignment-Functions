{
 "cells": [
  {
   "cell_type": "markdown",
   "id": "73ee6199-759b-49f0-a559-d36325c4019f",
   "metadata": {},
   "source": [
    "### Q1. Which keyword is used to create a function? Create a function to return a list of odd numbers in the range of 1 to 25."
   ]
  },
  {
   "cell_type": "code",
   "execution_count": 10,
   "id": "61fa2cd5-f8c2-4834-bb46-b95e13e537b4",
   "metadata": {},
   "outputs": [],
   "source": [
    "# def keyword is used to create a function .Foe eg. def func1():\n",
    "def oddnum():\n",
    "    l1=[x for x in range(1,25) if x%2!=0]\n",
    "    return l1"
   ]
  },
  {
   "cell_type": "code",
   "execution_count": 11,
   "id": "9154ecaf-cc13-44c5-a4c1-815b734807c1",
   "metadata": {},
   "outputs": [
    {
     "data": {
      "text/plain": [
       "[1, 3, 5, 7, 9, 11, 13, 15, 17, 19, 21, 23]"
      ]
     },
     "execution_count": 11,
     "metadata": {},
     "output_type": "execute_result"
    }
   ],
   "source": [
    "oddnum()"
   ]
  },
  {
   "cell_type": "markdown",
   "id": "4a692bc4-b0c6-4f1c-ac8d-9624a796868d",
   "metadata": {},
   "source": [
    "### Q2. Why *args and **kwargs is used in some functions? Create a function each for *args and **kwargs to demonstrate their use."
   ]
  },
  {
   "cell_type": "code",
   "execution_count": null,
   "id": "d3d98929-bbcc-4e53-a780-effc1ca5c6f5",
   "metadata": {},
   "outputs": [],
   "source": [
    "# *aregs is used in some function pass any number of arguments to the function and **kwargs is used to pass any number of key-value pair to the function."
   ]
  },
  {
   "cell_type": "code",
   "execution_count": 12,
   "id": "e68eaf48-cfb7-438b-90c0-265ac8fe4cd9",
   "metadata": {},
   "outputs": [],
   "source": [
    "def func1(*args):\n",
    "    return args"
   ]
  },
  {
   "cell_type": "code",
   "execution_count": 13,
   "id": "35297ac4-54e1-4f07-9460-10123ab2557f",
   "metadata": {},
   "outputs": [
    {
     "data": {
      "text/plain": [
       "(3, 2)"
      ]
     },
     "execution_count": 13,
     "metadata": {},
     "output_type": "execute_result"
    }
   ],
   "source": [
    "func1(3,2)"
   ]
  },
  {
   "cell_type": "code",
   "execution_count": 14,
   "id": "8ed223bc-233c-457a-b1a3-ab413d36baca",
   "metadata": {},
   "outputs": [
    {
     "data": {
      "text/plain": [
       "(1, 2, 3, 4, 5, 6)"
      ]
     },
     "execution_count": 14,
     "metadata": {},
     "output_type": "execute_result"
    }
   ],
   "source": [
    "func1(1,2,3,4,5,6)"
   ]
  },
  {
   "cell_type": "code",
   "execution_count": 15,
   "id": "7a115ead-3f02-4aff-94b0-b72c4c6290b6",
   "metadata": {},
   "outputs": [],
   "source": [
    "def func2(**kwargs):\n",
    "    return kwargs\n"
   ]
  },
  {
   "cell_type": "code",
   "execution_count": 19,
   "id": "5f0ae474-c9b9-4eb1-9a0b-48a583e7b3f5",
   "metadata": {},
   "outputs": [
    {
     "data": {
      "text/plain": [
       "{'key1': 'apple', 'key2': 'banana'}"
      ]
     },
     "execution_count": 19,
     "metadata": {},
     "output_type": "execute_result"
    }
   ],
   "source": [
    "func2(key1=\"apple\",key2=\"banana\")"
   ]
  },
  {
   "cell_type": "code",
   "execution_count": 20,
   "id": "f9fa7a86-447f-469a-9a81-8ffe67e600f5",
   "metadata": {},
   "outputs": [
    {
     "data": {
      "text/plain": [
       "{'a': 1, 'b': 2, 'c': 'pwskills', 'd': 'datascience'}"
      ]
     },
     "execution_count": 20,
     "metadata": {},
     "output_type": "execute_result"
    }
   ],
   "source": [
    "func2(a=1,b=2,c=\"pwskills\",d=\"datascience\")"
   ]
  },
  {
   "cell_type": "markdown",
   "id": "bd62881e-9928-4973-930c-466d8a7f29f3",
   "metadata": {},
   "source": [
    "### Q3.  What is an iterator in python? Name the method used to initialise the iterator object and the method used for iteration. Use these methods to print the first five elements of the given list [2, 4, 6, 8, 10, 12, 14, 16,18, 20]."
   ]
  },
  {
   "cell_type": "markdown",
   "id": "6f575bff-1044-4659-a292-d48e82f0ca51",
   "metadata": {},
   "source": [
    "##### -> An iterator is an object that contains a countable number of values.An iterator is an object that can be iterated upon, meaning that you can traverse through all the values.Technically, in Python, an iterator is an object which implements the iterator protocol, which consist of the methods __iter__() and __next__()"
   ]
  },
  {
   "cell_type": "markdown",
   "id": "c7e592ed-3988-492c-8a54-e124e8c95bb0",
   "metadata": {},
   "source": [
    "##### -> iter() method is used to initialise the iterator object and the next() method is used for the iteration."
   ]
  },
  {
   "cell_type": "code",
   "execution_count": 1,
   "id": "b241f597-bcf7-44eb-845c-d02c400b11a9",
   "metadata": {},
   "outputs": [
    {
     "name": "stdout",
     "output_type": "stream",
     "text": [
      "2\n",
      "4\n",
      "6\n",
      "8\n",
      "10\n"
     ]
    }
   ],
   "source": [
    "lst1 = [2,4,6,8,10,12,14,16,18,20]\n",
    "lst_iterator = iter(lst1)\n",
    "print(next(lst_iterator))\n",
    "print(next(lst_iterator))\n",
    "print(next(lst_iterator))\n",
    "print(next(lst_iterator))\n",
    "print(next(lst_iterator))"
   ]
  },
  {
   "cell_type": "markdown",
   "id": "44e3c0cc-df3a-4008-8395-8203b4f03ef6",
   "metadata": {},
   "source": [
    "### Q4.  What is a generator function in python? Why yield keyword is used? Give an example of a generator function."
   ]
  },
  {
   "cell_type": "markdown",
   "id": "039ba837-5926-4671-958d-86c36f21b0d0",
   "metadata": {},
   "source": [
    "##### A generator-function is defined like a normal function, but whenever it needs to generate a value, it does so with the yield keyword rather than return."
   ]
  },
  {
   "cell_type": "markdown",
   "id": "f85859a3-1d37-468e-ad48-9bc76568e7b2",
   "metadata": {},
   "source": [
    "##### yield keyword is used to give the elements of sequence as they are generated rather than storing and printing only when whole sequence is generated\n"
   ]
  },
  {
   "cell_type": "code",
   "execution_count": 2,
   "id": "774ec9c2-a257-4f69-a15c-11c41f55b182",
   "metadata": {},
   "outputs": [],
   "source": [
    "def gen_func():\n",
    "    for i in range(10):\n",
    "        yield i"
   ]
  },
  {
   "cell_type": "code",
   "execution_count": 3,
   "id": "45d2f23d-35a0-4689-9fde-aa31db92ea80",
   "metadata": {},
   "outputs": [
    {
     "name": "stdout",
     "output_type": "stream",
     "text": [
      "0\n",
      "1\n",
      "2\n",
      "3\n",
      "4\n",
      "5\n",
      "6\n",
      "7\n",
      "8\n",
      "9\n"
     ]
    }
   ],
   "source": [
    "for i in gen_func():\n",
    "    print(i)"
   ]
  },
  {
   "cell_type": "markdown",
   "id": "afc9b7be-ac9f-4ac0-bf1c-cf7dd8a33c51",
   "metadata": {},
   "source": [
    "### Q5. Create a generator function for prime numbers less than 1000. Use the next() method to print the first 20 prime numbers"
   ]
  },
  {
   "cell_type": "code",
   "execution_count": 1,
   "id": "52effbdf-8e8d-4bc7-b4c6-1b2700ad7715",
   "metadata": {},
   "outputs": [],
   "source": [
    "def primes():\n",
    "    #First two primes\n",
    "    yield 2 \n",
    "    yield 3\n",
    "    \n",
    "    #keep track of the prime numbers found so far\n",
    "    primes_found = [2,3]\n",
    "    \n",
    "    #start searching for more prime numbers\n",
    "    n = 5\n",
    "    while n < 1000:\n",
    "        is_prime = True\n",
    "        for prime in primes_found:\n",
    "            if n%prime==0:\n",
    "                is_prime = False\n",
    "                break\n",
    "            if is_prime:\n",
    "                yield n\n",
    "                primes_found.append(n)\n",
    "            n +=2"
   ]
  },
  {
   "cell_type": "code",
   "execution_count": null,
   "id": "69be40ec-9c92-4fa5-bf65-6440706476b9",
   "metadata": {},
   "outputs": [],
   "source": [
    "prime_gen = primes()\n",
    "\n",
    "# print the first 20 prime numbers \n",
    "for i in range(20):\n",
    "    print(next(prime_gen))"
   ]
  }
 ],
 "metadata": {
  "kernelspec": {
   "display_name": "Python 3 (ipykernel)",
   "language": "python",
   "name": "python3"
  },
  "language_info": {
   "codemirror_mode": {
    "name": "ipython",
    "version": 3
   },
   "file_extension": ".py",
   "mimetype": "text/x-python",
   "name": "python",
   "nbconvert_exporter": "python",
   "pygments_lexer": "ipython3",
   "version": "3.10.8"
  }
 },
 "nbformat": 4,
 "nbformat_minor": 5
}
